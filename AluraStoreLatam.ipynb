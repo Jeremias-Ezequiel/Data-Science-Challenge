{
  "nbformat": 4,
  "nbformat_minor": 0,
  "metadata": {
    "colab": {
      "provenance": [],
      "include_colab_link": true
    },
    "kernelspec": {
      "name": "python3",
      "display_name": "Python 3"
    },
    "language_info": {
      "name": "python"
    }
  },
  "cells": [
    {
      "cell_type": "markdown",
      "metadata": {
        "id": "view-in-github",
        "colab_type": "text"
      },
      "source": [
        "<a href=\"https://colab.research.google.com/github/Jeremias-Ezequiel/Data-Science-Challenge/blob/main/AluraStoreLatam.ipynb\" target=\"_parent\"><img src=\"https://colab.research.google.com/assets/colab-badge.svg\" alt=\"Open In Colab\"/></a>"
      ]
    },
    {
      "cell_type": "markdown",
      "source": [
        "### Importación de datos\n"
      ],
      "metadata": {
        "id": "RhEdWd9YUR6H"
      }
    },
    {
      "cell_type": "code",
      "execution_count": 6,
      "metadata": {
        "colab": {
          "base_uri": "https://localhost:8080/",
          "height": 310
        },
        "id": "T3EvaeQ_INIL",
        "outputId": "af744fc4-4886-457a-f036-96423b594e7c"
      },
      "outputs": [
        {
          "output_type": "execute_result",
          "data": {
            "text/plain": [
              "            Producto Categoría del Producto    Precio  Costo de envío  \\\n",
              "0  Asistente virtual           Electrónicos  164300.0          6900.0   \n",
              "1    Mesa de comedor                Muebles  192300.0          8400.0   \n",
              "2      Juego de mesa               Juguetes  209600.0         15900.0   \n",
              "3         Microondas      Electrodomésticos  757500.0         41000.0   \n",
              "4   Silla de oficina                Muebles  335200.0         20200.0   \n",
              "\n",
              "  Fecha de Compra         Vendedor Lugar de Compra  Calificación  \\\n",
              "0      16/01/2021      Pedro Gomez          Bogotá             4   \n",
              "1      18/05/2022  Beatriz Morales        Medellín             1   \n",
              "2      15/03/2021   Juan Fernandez       Cartagena             1   \n",
              "3      03/05/2022   Juan Fernandez            Cali             4   \n",
              "4      07/11/2020    Maria Alfonso        Medellín             5   \n",
              "\n",
              "       Método de pago  Cantidad de cuotas       lat       lon  \n",
              "0  Tarjeta de crédito                   8   4.60971 -74.08175  \n",
              "1  Tarjeta de crédito                   4   6.25184 -75.56359  \n",
              "2  Tarjeta de crédito                   1  10.39972 -75.51444  \n",
              "3               Nequi                   1   3.43722 -76.52250  \n",
              "4               Nequi                   1   6.25184 -75.56359  "
            ],
            "text/html": [
              "\n",
              "  <div id=\"df-3f4336e1-0255-4f6a-9b5f-f30f952260a8\" class=\"colab-df-container\">\n",
              "    <div>\n",
              "<style scoped>\n",
              "    .dataframe tbody tr th:only-of-type {\n",
              "        vertical-align: middle;\n",
              "    }\n",
              "\n",
              "    .dataframe tbody tr th {\n",
              "        vertical-align: top;\n",
              "    }\n",
              "\n",
              "    .dataframe thead th {\n",
              "        text-align: right;\n",
              "    }\n",
              "</style>\n",
              "<table border=\"1\" class=\"dataframe\">\n",
              "  <thead>\n",
              "    <tr style=\"text-align: right;\">\n",
              "      <th></th>\n",
              "      <th>Producto</th>\n",
              "      <th>Categoría del Producto</th>\n",
              "      <th>Precio</th>\n",
              "      <th>Costo de envío</th>\n",
              "      <th>Fecha de Compra</th>\n",
              "      <th>Vendedor</th>\n",
              "      <th>Lugar de Compra</th>\n",
              "      <th>Calificación</th>\n",
              "      <th>Método de pago</th>\n",
              "      <th>Cantidad de cuotas</th>\n",
              "      <th>lat</th>\n",
              "      <th>lon</th>\n",
              "    </tr>\n",
              "  </thead>\n",
              "  <tbody>\n",
              "    <tr>\n",
              "      <th>0</th>\n",
              "      <td>Asistente virtual</td>\n",
              "      <td>Electrónicos</td>\n",
              "      <td>164300.0</td>\n",
              "      <td>6900.0</td>\n",
              "      <td>16/01/2021</td>\n",
              "      <td>Pedro Gomez</td>\n",
              "      <td>Bogotá</td>\n",
              "      <td>4</td>\n",
              "      <td>Tarjeta de crédito</td>\n",
              "      <td>8</td>\n",
              "      <td>4.60971</td>\n",
              "      <td>-74.08175</td>\n",
              "    </tr>\n",
              "    <tr>\n",
              "      <th>1</th>\n",
              "      <td>Mesa de comedor</td>\n",
              "      <td>Muebles</td>\n",
              "      <td>192300.0</td>\n",
              "      <td>8400.0</td>\n",
              "      <td>18/05/2022</td>\n",
              "      <td>Beatriz Morales</td>\n",
              "      <td>Medellín</td>\n",
              "      <td>1</td>\n",
              "      <td>Tarjeta de crédito</td>\n",
              "      <td>4</td>\n",
              "      <td>6.25184</td>\n",
              "      <td>-75.56359</td>\n",
              "    </tr>\n",
              "    <tr>\n",
              "      <th>2</th>\n",
              "      <td>Juego de mesa</td>\n",
              "      <td>Juguetes</td>\n",
              "      <td>209600.0</td>\n",
              "      <td>15900.0</td>\n",
              "      <td>15/03/2021</td>\n",
              "      <td>Juan Fernandez</td>\n",
              "      <td>Cartagena</td>\n",
              "      <td>1</td>\n",
              "      <td>Tarjeta de crédito</td>\n",
              "      <td>1</td>\n",
              "      <td>10.39972</td>\n",
              "      <td>-75.51444</td>\n",
              "    </tr>\n",
              "    <tr>\n",
              "      <th>3</th>\n",
              "      <td>Microondas</td>\n",
              "      <td>Electrodomésticos</td>\n",
              "      <td>757500.0</td>\n",
              "      <td>41000.0</td>\n",
              "      <td>03/05/2022</td>\n",
              "      <td>Juan Fernandez</td>\n",
              "      <td>Cali</td>\n",
              "      <td>4</td>\n",
              "      <td>Nequi</td>\n",
              "      <td>1</td>\n",
              "      <td>3.43722</td>\n",
              "      <td>-76.52250</td>\n",
              "    </tr>\n",
              "    <tr>\n",
              "      <th>4</th>\n",
              "      <td>Silla de oficina</td>\n",
              "      <td>Muebles</td>\n",
              "      <td>335200.0</td>\n",
              "      <td>20200.0</td>\n",
              "      <td>07/11/2020</td>\n",
              "      <td>Maria Alfonso</td>\n",
              "      <td>Medellín</td>\n",
              "      <td>5</td>\n",
              "      <td>Nequi</td>\n",
              "      <td>1</td>\n",
              "      <td>6.25184</td>\n",
              "      <td>-75.56359</td>\n",
              "    </tr>\n",
              "  </tbody>\n",
              "</table>\n",
              "</div>\n",
              "    <div class=\"colab-df-buttons\">\n",
              "\n",
              "  <div class=\"colab-df-container\">\n",
              "    <button class=\"colab-df-convert\" onclick=\"convertToInteractive('df-3f4336e1-0255-4f6a-9b5f-f30f952260a8')\"\n",
              "            title=\"Convert this dataframe to an interactive table.\"\n",
              "            style=\"display:none;\">\n",
              "\n",
              "  <svg xmlns=\"http://www.w3.org/2000/svg\" height=\"24px\" viewBox=\"0 -960 960 960\">\n",
              "    <path d=\"M120-120v-720h720v720H120Zm60-500h600v-160H180v160Zm220 220h160v-160H400v160Zm0 220h160v-160H400v160ZM180-400h160v-160H180v160Zm440 0h160v-160H620v160ZM180-180h160v-160H180v160Zm440 0h160v-160H620v160Z\"/>\n",
              "  </svg>\n",
              "    </button>\n",
              "\n",
              "  <style>\n",
              "    .colab-df-container {\n",
              "      display:flex;\n",
              "      gap: 12px;\n",
              "    }\n",
              "\n",
              "    .colab-df-convert {\n",
              "      background-color: #E8F0FE;\n",
              "      border: none;\n",
              "      border-radius: 50%;\n",
              "      cursor: pointer;\n",
              "      display: none;\n",
              "      fill: #1967D2;\n",
              "      height: 32px;\n",
              "      padding: 0 0 0 0;\n",
              "      width: 32px;\n",
              "    }\n",
              "\n",
              "    .colab-df-convert:hover {\n",
              "      background-color: #E2EBFA;\n",
              "      box-shadow: 0px 1px 2px rgba(60, 64, 67, 0.3), 0px 1px 3px 1px rgba(60, 64, 67, 0.15);\n",
              "      fill: #174EA6;\n",
              "    }\n",
              "\n",
              "    .colab-df-buttons div {\n",
              "      margin-bottom: 4px;\n",
              "    }\n",
              "\n",
              "    [theme=dark] .colab-df-convert {\n",
              "      background-color: #3B4455;\n",
              "      fill: #D2E3FC;\n",
              "    }\n",
              "\n",
              "    [theme=dark] .colab-df-convert:hover {\n",
              "      background-color: #434B5C;\n",
              "      box-shadow: 0px 1px 3px 1px rgba(0, 0, 0, 0.15);\n",
              "      filter: drop-shadow(0px 1px 2px rgba(0, 0, 0, 0.3));\n",
              "      fill: #FFFFFF;\n",
              "    }\n",
              "  </style>\n",
              "\n",
              "    <script>\n",
              "      const buttonEl =\n",
              "        document.querySelector('#df-3f4336e1-0255-4f6a-9b5f-f30f952260a8 button.colab-df-convert');\n",
              "      buttonEl.style.display =\n",
              "        google.colab.kernel.accessAllowed ? 'block' : 'none';\n",
              "\n",
              "      async function convertToInteractive(key) {\n",
              "        const element = document.querySelector('#df-3f4336e1-0255-4f6a-9b5f-f30f952260a8');\n",
              "        const dataTable =\n",
              "          await google.colab.kernel.invokeFunction('convertToInteractive',\n",
              "                                                    [key], {});\n",
              "        if (!dataTable) return;\n",
              "\n",
              "        const docLinkHtml = 'Like what you see? Visit the ' +\n",
              "          '<a target=\"_blank\" href=https://colab.research.google.com/notebooks/data_table.ipynb>data table notebook</a>'\n",
              "          + ' to learn more about interactive tables.';\n",
              "        element.innerHTML = '';\n",
              "        dataTable['output_type'] = 'display_data';\n",
              "        await google.colab.output.renderOutput(dataTable, element);\n",
              "        const docLink = document.createElement('div');\n",
              "        docLink.innerHTML = docLinkHtml;\n",
              "        element.appendChild(docLink);\n",
              "      }\n",
              "    </script>\n",
              "  </div>\n",
              "\n",
              "\n",
              "<div id=\"df-c9b33c9b-0cc1-480d-a05c-f4c2aa37c2c6\">\n",
              "  <button class=\"colab-df-quickchart\" onclick=\"quickchart('df-c9b33c9b-0cc1-480d-a05c-f4c2aa37c2c6')\"\n",
              "            title=\"Suggest charts\"\n",
              "            style=\"display:none;\">\n",
              "\n",
              "<svg xmlns=\"http://www.w3.org/2000/svg\" height=\"24px\"viewBox=\"0 0 24 24\"\n",
              "     width=\"24px\">\n",
              "    <g>\n",
              "        <path d=\"M19 3H5c-1.1 0-2 .9-2 2v14c0 1.1.9 2 2 2h14c1.1 0 2-.9 2-2V5c0-1.1-.9-2-2-2zM9 17H7v-7h2v7zm4 0h-2V7h2v10zm4 0h-2v-4h2v4z\"/>\n",
              "    </g>\n",
              "</svg>\n",
              "  </button>\n",
              "\n",
              "<style>\n",
              "  .colab-df-quickchart {\n",
              "      --bg-color: #E8F0FE;\n",
              "      --fill-color: #1967D2;\n",
              "      --hover-bg-color: #E2EBFA;\n",
              "      --hover-fill-color: #174EA6;\n",
              "      --disabled-fill-color: #AAA;\n",
              "      --disabled-bg-color: #DDD;\n",
              "  }\n",
              "\n",
              "  [theme=dark] .colab-df-quickchart {\n",
              "      --bg-color: #3B4455;\n",
              "      --fill-color: #D2E3FC;\n",
              "      --hover-bg-color: #434B5C;\n",
              "      --hover-fill-color: #FFFFFF;\n",
              "      --disabled-bg-color: #3B4455;\n",
              "      --disabled-fill-color: #666;\n",
              "  }\n",
              "\n",
              "  .colab-df-quickchart {\n",
              "    background-color: var(--bg-color);\n",
              "    border: none;\n",
              "    border-radius: 50%;\n",
              "    cursor: pointer;\n",
              "    display: none;\n",
              "    fill: var(--fill-color);\n",
              "    height: 32px;\n",
              "    padding: 0;\n",
              "    width: 32px;\n",
              "  }\n",
              "\n",
              "  .colab-df-quickchart:hover {\n",
              "    background-color: var(--hover-bg-color);\n",
              "    box-shadow: 0 1px 2px rgba(60, 64, 67, 0.3), 0 1px 3px 1px rgba(60, 64, 67, 0.15);\n",
              "    fill: var(--button-hover-fill-color);\n",
              "  }\n",
              "\n",
              "  .colab-df-quickchart-complete:disabled,\n",
              "  .colab-df-quickchart-complete:disabled:hover {\n",
              "    background-color: var(--disabled-bg-color);\n",
              "    fill: var(--disabled-fill-color);\n",
              "    box-shadow: none;\n",
              "  }\n",
              "\n",
              "  .colab-df-spinner {\n",
              "    border: 2px solid var(--fill-color);\n",
              "    border-color: transparent;\n",
              "    border-bottom-color: var(--fill-color);\n",
              "    animation:\n",
              "      spin 1s steps(1) infinite;\n",
              "  }\n",
              "\n",
              "  @keyframes spin {\n",
              "    0% {\n",
              "      border-color: transparent;\n",
              "      border-bottom-color: var(--fill-color);\n",
              "      border-left-color: var(--fill-color);\n",
              "    }\n",
              "    20% {\n",
              "      border-color: transparent;\n",
              "      border-left-color: var(--fill-color);\n",
              "      border-top-color: var(--fill-color);\n",
              "    }\n",
              "    30% {\n",
              "      border-color: transparent;\n",
              "      border-left-color: var(--fill-color);\n",
              "      border-top-color: var(--fill-color);\n",
              "      border-right-color: var(--fill-color);\n",
              "    }\n",
              "    40% {\n",
              "      border-color: transparent;\n",
              "      border-right-color: var(--fill-color);\n",
              "      border-top-color: var(--fill-color);\n",
              "    }\n",
              "    60% {\n",
              "      border-color: transparent;\n",
              "      border-right-color: var(--fill-color);\n",
              "    }\n",
              "    80% {\n",
              "      border-color: transparent;\n",
              "      border-right-color: var(--fill-color);\n",
              "      border-bottom-color: var(--fill-color);\n",
              "    }\n",
              "    90% {\n",
              "      border-color: transparent;\n",
              "      border-bottom-color: var(--fill-color);\n",
              "    }\n",
              "  }\n",
              "</style>\n",
              "\n",
              "  <script>\n",
              "    async function quickchart(key) {\n",
              "      const quickchartButtonEl =\n",
              "        document.querySelector('#' + key + ' button');\n",
              "      quickchartButtonEl.disabled = true;  // To prevent multiple clicks.\n",
              "      quickchartButtonEl.classList.add('colab-df-spinner');\n",
              "      try {\n",
              "        const charts = await google.colab.kernel.invokeFunction(\n",
              "            'suggestCharts', [key], {});\n",
              "      } catch (error) {\n",
              "        console.error('Error during call to suggestCharts:', error);\n",
              "      }\n",
              "      quickchartButtonEl.classList.remove('colab-df-spinner');\n",
              "      quickchartButtonEl.classList.add('colab-df-quickchart-complete');\n",
              "    }\n",
              "    (() => {\n",
              "      let quickchartButtonEl =\n",
              "        document.querySelector('#df-c9b33c9b-0cc1-480d-a05c-f4c2aa37c2c6 button');\n",
              "      quickchartButtonEl.style.display =\n",
              "        google.colab.kernel.accessAllowed ? 'block' : 'none';\n",
              "    })();\n",
              "  </script>\n",
              "</div>\n",
              "\n",
              "    </div>\n",
              "  </div>\n"
            ],
            "application/vnd.google.colaboratory.intrinsic+json": {
              "type": "dataframe",
              "variable_name": "tienda",
              "summary": "{\n  \"name\": \"tienda\",\n  \"rows\": 2359,\n  \"fields\": [\n    {\n      \"column\": \"Producto\",\n      \"properties\": {\n        \"dtype\": \"category\",\n        \"num_unique_values\": 51,\n        \"samples\": [\n          \"Guitarra ac\\u00fastica\",\n          \"Bal\\u00f3n de baloncesto\",\n          \"Smartwatch\"\n        ],\n        \"semantic_type\": \"\",\n        \"description\": \"\"\n      }\n    },\n    {\n      \"column\": \"Categor\\u00eda del Producto\",\n      \"properties\": {\n        \"dtype\": \"category\",\n        \"num_unique_values\": 8,\n        \"samples\": [\n          \"Muebles\",\n          \"Deportes y diversi\\u00f3n\",\n          \"Electr\\u00f3nicos\"\n        ],\n        \"semantic_type\": \"\",\n        \"description\": \"\"\n      }\n    },\n    {\n      \"column\": \"Precio\",\n      \"properties\": {\n        \"dtype\": \"number\",\n        \"std\": 614686.7653873172,\n        \"min\": 7600.0,\n        \"max\": 2977000.0,\n        \"num_unique_values\": 1937,\n        \"samples\": [\n          2499400.0,\n          14800.0,\n          80500.0\n        ],\n        \"semantic_type\": \"\",\n        \"description\": \"\"\n      }\n    },\n    {\n      \"column\": \"Costo de env\\u00edo\",\n      \"properties\": {\n        \"dtype\": \"number\",\n        \"std\": 32860.0017825605,\n        \"min\": 0.0,\n        \"max\": 160800.0,\n        \"num_unique_values\": 753,\n        \"samples\": [\n          117800.0,\n          54700.0,\n          45600.0\n        ],\n        \"semantic_type\": \"\",\n        \"description\": \"\"\n      }\n    },\n    {\n      \"column\": \"Fecha de Compra\",\n      \"properties\": {\n        \"dtype\": \"object\",\n        \"num_unique_values\": 1018,\n        \"samples\": [\n          \"15/09/2022\",\n          \"03/06/2020\",\n          \"06/11/2021\"\n        ],\n        \"semantic_type\": \"\",\n        \"description\": \"\"\n      }\n    },\n    {\n      \"column\": \"Vendedor\",\n      \"properties\": {\n        \"dtype\": \"category\",\n        \"num_unique_values\": 14,\n        \"samples\": [\n          \"Juliana Costa\",\n          \"Mariana Herrera\",\n          \"Pedro Gomez\"\n        ],\n        \"semantic_type\": \"\",\n        \"description\": \"\"\n      }\n    },\n    {\n      \"column\": \"Lugar de Compra\",\n      \"properties\": {\n        \"dtype\": \"category\",\n        \"num_unique_values\": 19,\n        \"samples\": [\n          \"Bogot\\u00e1\",\n          \"Pereira\",\n          \"Neiva\"\n        ],\n        \"semantic_type\": \"\",\n        \"description\": \"\"\n      }\n    },\n    {\n      \"column\": \"Calificaci\\u00f3n\",\n      \"properties\": {\n        \"dtype\": \"number\",\n        \"std\": 1,\n        \"min\": 1,\n        \"max\": 5,\n        \"num_unique_values\": 5,\n        \"samples\": [\n          1,\n          2,\n          5\n        ],\n        \"semantic_type\": \"\",\n        \"description\": \"\"\n      }\n    },\n    {\n      \"column\": \"M\\u00e9todo de pago\",\n      \"properties\": {\n        \"dtype\": \"category\",\n        \"num_unique_values\": 4,\n        \"samples\": [\n          \"Nequi\",\n          \"Tarjeta de d\\u00e9bito\",\n          \"Tarjeta de cr\\u00e9dito\"\n        ],\n        \"semantic_type\": \"\",\n        \"description\": \"\"\n      }\n    },\n    {\n      \"column\": \"Cantidad de cuotas\",\n      \"properties\": {\n        \"dtype\": \"number\",\n        \"std\": 2,\n        \"min\": 1,\n        \"max\": 24,\n        \"num_unique_values\": 15,\n        \"samples\": [\n          7,\n          14,\n          8\n        ],\n        \"semantic_type\": \"\",\n        \"description\": \"\"\n      }\n    },\n    {\n      \"column\": \"lat\",\n      \"properties\": {\n        \"dtype\": \"number\",\n        \"std\": 2.2874452492678627,\n        \"min\": -4.21528,\n        \"max\": 11.54444,\n        \"num_unique_values\": 19,\n        \"samples\": [\n          4.60971,\n          4.81333,\n          2.9273\n        ],\n        \"semantic_type\": \"\",\n        \"description\": \"\"\n      }\n    },\n    {\n      \"column\": \"lon\",\n      \"properties\": {\n        \"dtype\": \"number\",\n        \"std\": 1.2178272727088486,\n        \"min\": -77.28111,\n        \"max\": -67.9239,\n        \"num_unique_values\": 19,\n        \"samples\": [\n          -74.08175,\n          -75.69611,\n          -75.28189\n        ],\n        \"semantic_type\": \"\",\n        \"description\": \"\"\n      }\n    }\n  ]\n}"
            }
          },
          "metadata": {},
          "execution_count": 6
        }
      ],
      "source": [
        "import pandas as pd\n",
        "\n",
        "url = \"https://raw.githubusercontent.com/alura-es-cursos/challenge1-data-science-latam/refs/heads/main/base-de-datos-challenge1-latam/tienda_1%20.csv\"\n",
        "url2 = \"https://raw.githubusercontent.com/alura-es-cursos/challenge1-data-science-latam/refs/heads/main/base-de-datos-challenge1-latam/tienda_2.csv\"\n",
        "url3 = \"https://raw.githubusercontent.com/alura-es-cursos/challenge1-data-science-latam/refs/heads/main/base-de-datos-challenge1-latam/tienda_3.csv\"\n",
        "url4 = \"https://raw.githubusercontent.com/alura-es-cursos/challenge1-data-science-latam/refs/heads/main/base-de-datos-challenge1-latam/tienda_4.csv\"\n",
        "\n",
        "tienda = pd.read_csv(url)\n",
        "tienda2 = pd.read_csv(url2)\n",
        "tienda3 = pd.read_csv(url3)\n",
        "tienda4 = pd.read_csv(url4)\n",
        "\n",
        "tienda.head()"
      ]
    },
    {
      "cell_type": "markdown",
      "source": [
        "# Conociendo el conjunto de datos"
      ],
      "metadata": {
        "id": "lJadzK43-3iH"
      }
    },
    {
      "cell_type": "code",
      "source": [
        "# Verificando la información con respecto a columnas y filas de nuestros data frame\n",
        "print('Tienda 1: ', tienda.shape)\n",
        "print('Tienda 2: ', tienda2.shape)\n",
        "print('Tienda 3: ', tienda3.shape)\n",
        "print('Tienda 4: ', tienda4.shape)"
      ],
      "metadata": {
        "id": "xykobSftV64I",
        "colab": {
          "base_uri": "https://localhost:8080/"
        },
        "outputId": "dae6c9f1-8c14-4819-9904-4b15a421165e"
      },
      "execution_count": null,
      "outputs": [
        {
          "output_type": "stream",
          "name": "stdout",
          "text": [
            "Tienda 1:  (2359, 12)\n",
            "Tienda 2:  (2359, 12)\n",
            "Tienda 3:  (2359, 12)\n",
            "Tienda 4:  (2358, 12)\n"
          ]
        }
      ]
    },
    {
      "cell_type": "code",
      "source": [
        "# Verificando la información de columnas y tipos de datos\n",
        "print(\"Tienda 1: \")\n",
        "print(tienda.info())\n",
        "\n",
        "print(\"Tienda 2: \")\n",
        "print(tienda2.info())\n",
        "\n",
        "print(\"Tienda 3: \")\n",
        "print(tienda3.info())\n",
        "\n",
        "print(\"Tienda 4: \")\n",
        "print(tienda4.info())"
      ],
      "metadata": {
        "id": "KDyr8E71V3m-",
        "collapsed": true,
        "colab": {
          "base_uri": "https://localhost:8080/"
        },
        "outputId": "c7d3424b-a515-48c1-ce0d-7791e7afa907"
      },
      "execution_count": null,
      "outputs": [
        {
          "output_type": "stream",
          "name": "stdout",
          "text": [
            "Tienda 1: \n",
            "<class 'pandas.core.frame.DataFrame'>\n",
            "RangeIndex: 2359 entries, 0 to 2358\n",
            "Data columns (total 12 columns):\n",
            " #   Column                  Non-Null Count  Dtype  \n",
            "---  ------                  --------------  -----  \n",
            " 0   Producto                2359 non-null   object \n",
            " 1   Categoría del Producto  2359 non-null   object \n",
            " 2   Precio                  2359 non-null   float64\n",
            " 3   Costo de envío          2359 non-null   float64\n",
            " 4   Fecha de Compra         2359 non-null   object \n",
            " 5   Vendedor                2359 non-null   object \n",
            " 6   Lugar de Compra         2359 non-null   object \n",
            " 7   Calificación            2359 non-null   int64  \n",
            " 8   Método de pago          2359 non-null   object \n",
            " 9   Cantidad de cuotas      2359 non-null   int64  \n",
            " 10  lat                     2359 non-null   float64\n",
            " 11  lon                     2359 non-null   float64\n",
            "dtypes: float64(4), int64(2), object(6)\n",
            "memory usage: 221.3+ KB\n",
            "None\n",
            "Tienda 2: \n",
            "<class 'pandas.core.frame.DataFrame'>\n",
            "RangeIndex: 2359 entries, 0 to 2358\n",
            "Data columns (total 12 columns):\n",
            " #   Column                  Non-Null Count  Dtype  \n",
            "---  ------                  --------------  -----  \n",
            " 0   Producto                2359 non-null   object \n",
            " 1   Categoría del Producto  2359 non-null   object \n",
            " 2   Precio                  2359 non-null   float64\n",
            " 3   Costo de envío          2359 non-null   float64\n",
            " 4   Fecha de Compra         2359 non-null   object \n",
            " 5   Vendedor                2359 non-null   object \n",
            " 6   Lugar de Compra         2359 non-null   object \n",
            " 7   Calificación            2359 non-null   int64  \n",
            " 8   Método de pago          2359 non-null   object \n",
            " 9   Cantidad de cuotas      2359 non-null   int64  \n",
            " 10  lat                     2359 non-null   float64\n",
            " 11  lon                     2359 non-null   float64\n",
            "dtypes: float64(4), int64(2), object(6)\n",
            "memory usage: 221.3+ KB\n",
            "None\n",
            "Tienda 3: \n",
            "<class 'pandas.core.frame.DataFrame'>\n",
            "RangeIndex: 2359 entries, 0 to 2358\n",
            "Data columns (total 12 columns):\n",
            " #   Column                  Non-Null Count  Dtype  \n",
            "---  ------                  --------------  -----  \n",
            " 0   Producto                2359 non-null   object \n",
            " 1   Categoría del Producto  2359 non-null   object \n",
            " 2   Precio                  2359 non-null   float64\n",
            " 3   Costo de envío          2359 non-null   float64\n",
            " 4   Fecha de Compra         2359 non-null   object \n",
            " 5   Vendedor                2359 non-null   object \n",
            " 6   Lugar de Compra         2359 non-null   object \n",
            " 7   Calificación            2359 non-null   int64  \n",
            " 8   Método de pago          2359 non-null   object \n",
            " 9   Cantidad de cuotas      2359 non-null   int64  \n",
            " 10  lat                     2359 non-null   float64\n",
            " 11  lon                     2359 non-null   float64\n",
            "dtypes: float64(4), int64(2), object(6)\n",
            "memory usage: 221.3+ KB\n",
            "None\n",
            "Tienda 4: \n",
            "<class 'pandas.core.frame.DataFrame'>\n",
            "RangeIndex: 2358 entries, 0 to 2357\n",
            "Data columns (total 12 columns):\n",
            " #   Column                  Non-Null Count  Dtype  \n",
            "---  ------                  --------------  -----  \n",
            " 0   Producto                2358 non-null   object \n",
            " 1   Categoría del Producto  2358 non-null   object \n",
            " 2   Precio                  2358 non-null   float64\n",
            " 3   Costo de envío          2358 non-null   float64\n",
            " 4   Fecha de Compra         2358 non-null   object \n",
            " 5   Vendedor                2358 non-null   object \n",
            " 6   Lugar de Compra         2358 non-null   object \n",
            " 7   Calificación            2358 non-null   int64  \n",
            " 8   Método de pago          2358 non-null   object \n",
            " 9   Cantidad de cuotas      2358 non-null   int64  \n",
            " 10  lat                     2358 non-null   float64\n",
            " 11  lon                     2358 non-null   float64\n",
            "dtypes: float64(4), int64(2), object(6)\n",
            "memory usage: 221.2+ KB\n",
            "None\n"
          ]
        }
      ]
    },
    {
      "cell_type": "code",
      "source": [
        "# Verificando si los data frames almacenan valores nulos\n",
        "print(\"Tienda 1: \")\n",
        "print(tienda.isnull().sum())\n",
        "\n",
        "print(\"Tienda 2: \")\n",
        "print(tienda2.isnull().sum())\n",
        "\n",
        "print(\"Tienda 3: \")\n",
        "print(tienda3.isnull().sum())\n",
        "\n",
        "print(\"Tienda 4: \")\n",
        "print(tienda4.isnull().sum())"
      ],
      "metadata": {
        "collapsed": true,
        "colab": {
          "base_uri": "https://localhost:8080/"
        },
        "id": "4PLp4jgZ-I0P",
        "outputId": "75028459-d493-42cb-def7-80508e6caeec"
      },
      "execution_count": null,
      "outputs": [
        {
          "output_type": "stream",
          "name": "stdout",
          "text": [
            "Tienda 1: \n",
            "Producto                  0\n",
            "Categoría del Producto    0\n",
            "Precio                    0\n",
            "Costo de envío            0\n",
            "Fecha de Compra           0\n",
            "Vendedor                  0\n",
            "Lugar de Compra           0\n",
            "Calificación              0\n",
            "Método de pago            0\n",
            "Cantidad de cuotas        0\n",
            "lat                       0\n",
            "lon                       0\n",
            "dtype: int64\n",
            "Tienda 2: \n",
            "Producto                  0\n",
            "Categoría del Producto    0\n",
            "Precio                    0\n",
            "Costo de envío            0\n",
            "Fecha de Compra           0\n",
            "Vendedor                  0\n",
            "Lugar de Compra           0\n",
            "Calificación              0\n",
            "Método de pago            0\n",
            "Cantidad de cuotas        0\n",
            "lat                       0\n",
            "lon                       0\n",
            "dtype: int64\n",
            "Tienda 3: \n",
            "Producto                  0\n",
            "Categoría del Producto    0\n",
            "Precio                    0\n",
            "Costo de envío            0\n",
            "Fecha de Compra           0\n",
            "Vendedor                  0\n",
            "Lugar de Compra           0\n",
            "Calificación              0\n",
            "Método de pago            0\n",
            "Cantidad de cuotas        0\n",
            "lat                       0\n",
            "lon                       0\n",
            "dtype: int64\n",
            "Tienda 4: \n",
            "Producto                  0\n",
            "Categoría del Producto    0\n",
            "Precio                    0\n",
            "Costo de envío            0\n",
            "Fecha de Compra           0\n",
            "Vendedor                  0\n",
            "Lugar de Compra           0\n",
            "Calificación              0\n",
            "Método de pago            0\n",
            "Cantidad de cuotas        0\n",
            "lat                       0\n",
            "lon                       0\n",
            "dtype: int64\n"
          ]
        }
      ]
    },
    {
      "cell_type": "markdown",
      "source": [
        "#1. Análisis de facturación\n",
        "\n"
      ],
      "metadata": {
        "id": "X62IW3KFUIYm"
      }
    },
    {
      "cell_type": "code",
      "source": [
        "# Creando una función para obtener el total de cada tienda\n",
        "def obtener_ingresos(tienda):\n",
        "  total_ingresos = tienda['Precio'].sum()\n",
        "  return total_ingresos"
      ],
      "metadata": {
        "id": "Ca7IM3vL_DRN"
      },
      "execution_count": 1,
      "outputs": []
    },
    {
      "cell_type": "code",
      "source": [
        "# Obteniendo el ingreso de cada tienda\n",
        "ingreso_tienda = obtener_ingresos(tienda)\n",
        "ingreso_tienda2 = obtener_ingresos(tienda2)\n",
        "ingreso_tienda3 = obtener_ingresos(tienda3)\n",
        "ingreso_tienda4 = obtener_ingresos(tienda4)"
      ],
      "metadata": {
        "id": "PUmCiBchxNUH"
      },
      "execution_count": null,
      "outputs": []
    },
    {
      "cell_type": "code",
      "source": [
        "# Agrupando los datos de ingresos y las tiendas\n",
        "ingresos_tiendas = [ingreso_tienda,ingreso_tienda2,ingreso_tienda3, ingreso_tienda4]\n",
        "nombre_tiendas = ['tienda','tienda 2','tienda 3','tienda 4']"
      ],
      "metadata": {
        "id": "ckUXXFluxOE8"
      },
      "execution_count": null,
      "outputs": []
    },
    {
      "cell_type": "code",
      "source": [
        "# Creando el dataframe correspondiente a los ingresos\n",
        "ingresos_df = pd.DataFrame({\n",
        "    'tienda' : nombre_tiendas,\n",
        "    'total ingresos' : ingresos_tiendas\n",
        "})\n",
        "\n",
        "# Seteando el formato de los flotantes para la vista del data frame\n",
        "pd.set_option('display.float_format', '{:,.2f}'.format)\n",
        "\n",
        "print(ingresos_df)"
      ],
      "metadata": {
        "id": "Bo4p1ba0xQJI"
      },
      "execution_count": null,
      "outputs": []
    },
    {
      "cell_type": "markdown",
      "source": [
        "# 2. Ventas por categoría"
      ],
      "metadata": {
        "id": "2V_vcAPzWZmR"
      }
    },
    {
      "cell_type": "code",
      "source": [
        "# Calculando la cantidad de productos vendidos por categoria\n",
        "\n",
        "# Creamos una función para obtener una lista de tupla con las categorias y la cantidad de productos vendidos\n",
        "def obtener_ventas_por_categoria(tienda):\n",
        "  # Obtenemos las categorias unicas\n",
        "  categorias = list(set(tienda['Categoría del Producto']))\n",
        "\n",
        "  lista_de_tuplas = []\n",
        "\n",
        "  for categoria in categorias:\n",
        "     cantidad = (tienda['Categoría del Producto'] == categoria).sum()\n",
        "     lista_de_tuplas.append((categoria,int(cantidad)))\n",
        "\n",
        "  return lista_de_tuplas\n",
        "\n",
        "# Creamos una funcion para generar un dataframe con las ventas y el nombre de cada tienda\n",
        "def crear_dataframe_ventas(ventas_de_tienda,nombre_tienda):\n",
        "  df = pd.DataFrame(ventas_de_tienda,columns=['Categoria','Cantidad Vendida'])\n",
        "  return df"
      ],
      "metadata": {
        "id": "A34YupIuYhfF",
        "colab": {
          "base_uri": "https://localhost:8080/"
        },
        "outputId": "620bb3c4-8db4-4aba-d051-661f8e067ff5",
        "collapsed": true
      },
      "execution_count": null,
      "outputs": [
        {
          "output_type": "stream",
          "name": "stdout",
          "text": [
            "--Tienda--\n",
            "                 Categoria  Cantidad Vendida\n",
            "6                  Muebles               465\n",
            "3             Electrónicos               448\n",
            "7                 Juguetes               324\n",
            "1        Electrodomésticos               312\n",
            "0     Deportes y diversión               284\n",
            "5   Instrumentos musicales               182\n",
            "4                   Libros               173\n",
            "2  Artículos para el hogar               171\n",
            "--Tienda 2--\n",
            "                 Categoria  Cantidad Vendida\n",
            "6                  Muebles               442\n",
            "3             Electrónicos               422\n",
            "7                 Juguetes               313\n",
            "1        Electrodomésticos               305\n",
            "0     Deportes y diversión               275\n",
            "5   Instrumentos musicales               224\n",
            "4                   Libros               197\n",
            "2  Artículos para el hogar               181\n",
            "--Tienda 3--\n",
            "                 Categoria  Cantidad Vendida\n",
            "4                  Muebles               499\n",
            "2             Electrónicos               451\n",
            "7                 Juguetes               315\n",
            "0        Electrodomésticos               278\n",
            "6     Deportes y diversión               277\n",
            "3                   Libros               185\n",
            "1  Artículos para el hogar               177\n",
            "5   Instrumentos musicales               177\n",
            "--Tienda 4--\n",
            "                 Categoria  Cantidad Vendida\n",
            "4                  Muebles               480\n",
            "2             Electrónicos               451\n",
            "7                 Juguetes               338\n",
            "6     Deportes y diversión               277\n",
            "0        Electrodomésticos               254\n",
            "1  Artículos para el hogar               201\n",
            "3                   Libros               187\n",
            "5   Instrumentos musicales               170\n"
          ]
        }
      ]
    },
    {
      "cell_type": "code",
      "source": [
        "# Obtenemos las ventas de cada tienda\n",
        "ventas_tienda = obtener_ventas_por_categoria(tienda)\n",
        "ventas_tienda2 = obtener_ventas_por_categoria(tienda2)\n",
        "ventas_tienda3 = obtener_ventas_por_categoria(tienda3)\n",
        "ventas_tienda4 = obtener_ventas_por_categoria(tienda4)"
      ],
      "metadata": {
        "id": "GbYTVTXBxZSD"
      },
      "execution_count": null,
      "outputs": []
    },
    {
      "cell_type": "code",
      "source": [
        "# Obtenemos el data frame de cada tienda\n",
        "ventas_tienda_df = crear_dataframe_ventas(ventas_tienda,'Tienda')\n",
        "ventas_tienda_df2 = crear_dataframe_ventas(ventas_tienda2,'Tienda 2')\n",
        "ventas_tienda_df3 = crear_dataframe_ventas(ventas_tienda3,'Tienda 3')\n",
        "ventas_tienda_df4 = crear_dataframe_ventas(ventas_tienda4,'Tienda 4')"
      ],
      "metadata": {
        "id": "JKFMK5ZKxbvm"
      },
      "execution_count": null,
      "outputs": []
    },
    {
      "cell_type": "code",
      "source": [
        "# Ordenando las ventas\n",
        "ventas_tienda_df.sort_values(by='Cantidad Vendida',ascending=False,inplace=True)\n",
        "ventas_tienda_df2.sort_values(by='Cantidad Vendida',ascending=False,inplace=True)\n",
        "ventas_tienda_df3.sort_values(by='Cantidad Vendida',ascending=False,inplace=True)\n",
        "ventas_tienda_df4.sort_values(by='Cantidad Vendida',ascending=False,inplace=True)\n",
        "\n",
        "# Mostrando las ventas\n",
        "print(\"--Tienda--\")\n",
        "print(ventas_tienda_df)\n",
        "\n",
        "print(\"--Tienda 2--\")\n",
        "print(ventas_tienda_df2)\n",
        "\n",
        "print(\"--Tienda 3--\")\n",
        "print(ventas_tienda_df3)\n",
        "\n",
        "print(\"--Tienda 4--\")\n",
        "print(ventas_tienda_df4)"
      ],
      "metadata": {
        "id": "TwXTwA2hxcbL"
      },
      "execution_count": null,
      "outputs": []
    },
    {
      "cell_type": "markdown",
      "source": [
        "# 3. Calificación promedio de la tienda\n"
      ],
      "metadata": {
        "id": "Rq6tU_xSY3jk"
      }
    },
    {
      "cell_type": "code",
      "source": [
        "# Creando una función para obtener una tupla con el nombre de la tienda y su promedio\n",
        "def obtener_calificacion_promedio(tienda,nombreTienda):\n",
        "  return (nombreTienda,float(tienda['Calificación'].mean()))"
      ],
      "metadata": {
        "id": "bh3jjjJwY5MU"
      },
      "execution_count": 14,
      "outputs": []
    },
    {
      "cell_type": "code",
      "source": [
        "# Obteniendo la calificación promedio de cada tienda\n",
        "calificación_tienda1 = obtener_calificacion_promedio(tienda,\"Tienda 1\")\n",
        "calificación_tienda2 = obtener_calificacion_promedio(tienda2,\"Tienda 2\")\n",
        "calificación_tienda3 = obtener_calificacion_promedio(tienda3,\"Tienda 3\")\n",
        "calificación_tienda4 = obtener_calificacion_promedio(tienda4,\"Tienda 4\")"
      ],
      "metadata": {
        "id": "9XR6-ymCxnOG"
      },
      "execution_count": 15,
      "outputs": []
    },
    {
      "cell_type": "code",
      "source": [
        "# Creando una lista con las calificaciónes para transformaro a Data Frame\n",
        "lista_calificaciones = [\n",
        "    calificación_tienda1,\n",
        "    calificación_tienda2,\n",
        "    calificación_tienda3,\n",
        "    calificación_tienda4\n",
        "]"
      ],
      "metadata": {
        "id": "HtE9aLwpxnyM"
      },
      "execution_count": 16,
      "outputs": []
    },
    {
      "cell_type": "code",
      "source": [
        "# Creando y mostrando el data frame\n",
        "df_calificaciones = pd.DataFrame(lista_calificaciones,columns=[\"Nombre\",\"Calificación\"])\n",
        "\n",
        "print(\"---Calificaciones promedio por tienda---\")\n",
        "print(df_calificaciones)"
      ],
      "metadata": {
        "id": "7JI12T1yxp26",
        "outputId": "308e454e-0a48-419a-8b96-d0d9282fdcc0",
        "colab": {
          "base_uri": "https://localhost:8080/"
        }
      },
      "execution_count": 17,
      "outputs": [
        {
          "output_type": "stream",
          "name": "stdout",
          "text": [
            "---Calificaciones promedio por tienda---\n",
            "     Nombre  Calificación\n",
            "0  Tienda 1      3.976685\n",
            "1  Tienda 2      4.037304\n",
            "2  Tienda 3      4.048326\n",
            "3  Tienda 4      3.995759\n"
          ]
        }
      ]
    },
    {
      "cell_type": "markdown",
      "source": [
        "# 4. Productos más y menos vendidos"
      ],
      "metadata": {
        "id": "DmNp1KPBZCm-"
      }
    },
    {
      "cell_type": "code",
      "source": [
        "# Obteniendo los productos unicos de cada tienda\n",
        "def obtener_productos_tienda(tienda):\n",
        "    return list(set(tienda['Producto']))\n",
        "\n",
        "# Creando un lista con el nombre del producto y la cantida vendida\n",
        "def obtener_cantidad_productos_vendidos(tienda):\n",
        "  productos_unicos = obtener_productos_tienda(tienda)\n",
        "  lista_de_tuplas = []\n",
        "  for producto in productos_unicos:\n",
        "     cantidad = (tienda['Producto'] == producto).sum()\n",
        "     lista_de_tuplas.append((producto,int(cantidad)))\n",
        "\n",
        "  return lista_de_tuplas\n",
        "\n",
        "# Creando un dataframe por cada tienda\n",
        "def crear_dataframe_productos_vendidos(productos_vendidos):\n",
        "  return pd.DataFrame(productos_vendidos,columns=[\"Producto\",\"Cantidad\"])"
      ],
      "metadata": {
        "id": "qoyjqijQZHfF",
        "collapsed": true
      },
      "execution_count": 7,
      "outputs": []
    },
    {
      "cell_type": "code",
      "source": [
        "# Obteniendo la cantidad de productos vendidos por tienda.\n",
        "productos_tienda = obtener_cantidad_productos_vendidos(tienda)\n",
        "productos_tienda2 = obtener_cantidad_productos_vendidos(tienda2)\n",
        "productos_tienda3 = obtener_cantidad_productos_vendidos(tienda3)\n",
        "productos_tienda4 = obtener_cantidad_productos_vendidos(tienda4)"
      ],
      "metadata": {
        "id": "0Sw3sd4IZIGW"
      },
      "execution_count": 8,
      "outputs": []
    },
    {
      "cell_type": "code",
      "source": [
        "# Creando el data frame con las columnas correspondientes\n",
        "df_ventas_tienda = crear_dataframe_productos_vendidos(productos_tienda)\n",
        "df_ventas_tienda2 = crear_dataframe_productos_vendidos(productos_tienda2)\n",
        "df_ventas_tienda3 = crear_dataframe_productos_vendidos(productos_tienda3)\n",
        "df_ventas_tienda4 = crear_dataframe_productos_vendidos(productos_tienda4)"
      ],
      "metadata": {
        "id": "kdEP6AxPx7Is"
      },
      "execution_count": 9,
      "outputs": []
    },
    {
      "cell_type": "code",
      "source": [
        "# Ordenando los valores por cantidad, obteniendo los productos con mas ventas al inicio del data frame\n",
        "df_ventas_tienda.sort_values(by=\"Cantidad\",ascending=False,inplace=True)\n",
        "df_ventas_tienda2.sort_values(by=\"Cantidad\",ascending=False,inplace=True)\n",
        "df_ventas_tienda3.sort_values(by=\"Cantidad\",ascending=False,inplace=True)\n",
        "df_ventas_tienda4.sort_values(by=\"Cantidad\",ascending=False,inplace=True)\n",
        "\n",
        "print(\"--TIENDA 1 --\")\n",
        "print(df_ventas_tienda)\n",
        "print(\"--TIENDA 2 --\")\n",
        "print(df_ventas_tienda2)\n",
        "print(\"--TIENDA 3 --\")\n",
        "print(df_ventas_tienda3)\n",
        "print(\"--TIENDA 4 --\")\n",
        "print(df_ventas_tienda4)"
      ],
      "metadata": {
        "collapsed": true,
        "id": "EluPfrA6x9EN",
        "outputId": "e9a31dc9-cc51-42a3-cde3-80fbffd2c5f8",
        "colab": {
          "base_uri": "https://localhost:8080/"
        }
      },
      "execution_count": 10,
      "outputs": [
        {
          "output_type": "stream",
          "name": "stdout",
          "text": [
            "--TIENDA 1 --\n",
            "                       Producto  Cantidad\n",
            "6                    Microondas        60\n",
            "16                TV LED UHD 4K        60\n",
            "22                      Armario        60\n",
            "30             Secadora de ropa        58\n",
            "32      Bloques de construcción        56\n",
            "21                Mesa de noche        56\n",
            "38          Balón de baloncesto        55\n",
            "43                 Refrigerador        54\n",
            "36                    Impresora        54\n",
            "25                    Bicicleta        54\n",
            "1                  Vaso térmico        54\n",
            "17                      Batería        53\n",
            "8                    Cubertería        52\n",
            "19    Carrito de control remoto        52\n",
            "13          Modelado predictivo        51\n",
            "41                  Auriculares        50\n",
            "35            Ajedrez de madera        49\n",
            "46                    Iphone 15        49\n",
            "14                 Lavavajillas        48\n",
            "31             Lavadora de ropa        47\n",
            "3            Guitarra eléctrica        47\n",
            "5             Guitarra acústica        46\n",
            "11              Sofá reclinable        46\n",
            "40             Silla de oficina        46\n",
            "50                       Estufa        45\n",
            "42               Mesa de centro        44\n",
            "10                     Smart TV        44\n",
            "0                 Kit de bancas        44\n",
            "44                    Cama king        44\n",
            "18              Cubo mágico 8x8        44\n",
            "45                     Cama box        44\n",
            "15                   Smartwatch        43\n",
            "2                 Juego de mesa        43\n",
            "29                 Set de ollas        43\n",
            "4       Dashboards con Power BI        42\n",
            "9             Balón de voleibol        42\n",
            "39                  Tablet ABXY        42\n",
            "24                 Set de vasos        41\n",
            "23    Iniciando en programación        41\n",
            "27                       Sillón        41\n",
            "47           Cuerda para saltar        40\n",
            "37               Dinosaurio Rex        40\n",
            "20              Mesa de comedor        40\n",
            "28                  Muñeca bebé        40\n",
            "34            Asistente virtual        40\n",
            "48  Ciencia de datos con Python        39\n",
            "49                      Mochila        39\n",
            "7                     Pandereta        36\n",
            "12              Olla de presión        35\n",
            "33    Auriculares con micrófono        33\n",
            "26                 Celular ABXY        33\n",
            "--TIENDA 2 --\n",
            "                       Producto  Cantidad\n",
            "22    Iniciando en programación        65\n",
            "7                    Microondas        62\n",
            "17                      Batería        61\n",
            "4             Guitarra acústica        58\n",
            "5                     Pandereta        58\n",
            "30             Secadora de ropa        57\n",
            "46                    Iphone 15        55\n",
            "32      Bloques de construcción        54\n",
            "19                      Armario        54\n",
            "29                 Set de ollas        52\n",
            "47           Cuerda para saltar        50\n",
            "31             Lavadora de ropa        49\n",
            "43                 Refrigerador        49\n",
            "40             Silla de oficina        49\n",
            "28                  Muñeca bebé        48\n",
            "45                     Cama box        47\n",
            "3            Guitarra eléctrica        47\n",
            "1                  Vaso térmico        47\n",
            "21    Carrito de control remoto        47\n",
            "9             Balón de voleibol        46\n",
            "24                 Set de vasos        46\n",
            "13          Modelado predictivo        46\n",
            "14                 Lavavajillas        46\n",
            "42               Mesa de centro        45\n",
            "41                    Cama king        45\n",
            "25                    Bicicleta        45\n",
            "16                TV LED UHD 4K        45\n",
            "0                 Kit de bancas        45\n",
            "18              Cubo mágico 8x8        45\n",
            "49                      Mochila        45\n",
            "34            Ajedrez de madera        45\n",
            "12              Olla de presión        44\n",
            "11              Sofá reclinable        44\n",
            "15                   Smartwatch        44\n",
            "39                  Tablet ABXY        44\n",
            "23                Mesa de noche        44\n",
            "33    Auriculares con micrófono        44\n",
            "48  Ciencia de datos con Python        43\n",
            "6       Dashboards con Power BI        43\n",
            "50                       Estufa        42\n",
            "38          Balón de baloncesto        42\n",
            "35               Dinosaurio Rex        42\n",
            "26                 Celular ABXY        41\n",
            "10                     Smart TV        40\n",
            "8                    Cubertería        39\n",
            "36            Asistente virtual        38\n",
            "44                  Auriculares        37\n",
            "27                       Sillón        35\n",
            "20              Mesa de comedor        34\n",
            "37                    Impresora        34\n",
            "2                 Juego de mesa        32\n",
            "--TIENDA 3 --\n",
            "                       Producto  Cantidad\n",
            "0                 Kit de bancas        57\n",
            "43                    Cama king        56\n",
            "22              Mesa de comedor        56\n",
            "19                Mesa de noche        55\n",
            "29                 Set de ollas        55\n",
            "10                     Smart TV        54\n",
            "47           Cuerda para saltar        53\n",
            "50                       Estufa        53\n",
            "13          Modelado predictivo        53\n",
            "14                 Lavavajillas        52\n",
            "2                 Juego de mesa        52\n",
            "21    Carrito de control remoto        52\n",
            "25                    Bicicleta        52\n",
            "5                     Pandereta        51\n",
            "38          Balón de baloncesto        50\n",
            "34                    Impresora        50\n",
            "44                 Refrigerador        50\n",
            "20                      Armario        49\n",
            "9             Balón de voleibol        48\n",
            "39                  Tablet ABXY        48\n",
            "36            Ajedrez de madera        47\n",
            "12              Olla de presión        47\n",
            "4             Guitarra acústica        47\n",
            "27                       Sillón        47\n",
            "45                     Cama box        46\n",
            "46                    Iphone 15        46\n",
            "23    Iniciando en programación        46\n",
            "35               Dinosaurio Rex        46\n",
            "15                   Smartwatch        46\n",
            "48  Ciencia de datos con Python        46\n",
            "40             Silla de oficina        46\n",
            "11              Sofá reclinable        45\n",
            "30             Secadora de ropa        45\n",
            "26                 Celular ABXY        44\n",
            "18              Cubo mágico 8x8        44\n",
            "41                  Auriculares        43\n",
            "31             Lavadora de ropa        42\n",
            "16                TV LED UHD 4K        42\n",
            "42               Mesa de centro        42\n",
            "17                      Batería        41\n",
            "6       Dashboards con Power BI        40\n",
            "28                  Muñeca bebé        39\n",
            "8                    Cubertería        39\n",
            "37            Asistente virtual        39\n",
            "32    Auriculares con micrófono        39\n",
            "1                  Vaso térmico        38\n",
            "3            Guitarra eléctrica        38\n",
            "7                    Microondas        36\n",
            "24                 Set de vasos        36\n",
            "49                      Mochila        36\n",
            "33      Bloques de construcción        35\n",
            "--TIENDA 4 --\n",
            "                       Producto  Cantidad\n",
            "45                     Cama box        62\n",
            "8                    Cubertería        59\n",
            "4       Dashboards con Power BI        56\n",
            "42                    Cama king        56\n",
            "19                Mesa de noche        55\n",
            "20              Mesa de comedor        55\n",
            "21    Carrito de control remoto        55\n",
            "33      Bloques de construcción        54\n",
            "10                     Smart TV        54\n",
            "5                     Pandereta        52\n",
            "13          Modelado predictivo        50\n",
            "34                    Impresora        50\n",
            "29                 Set de ollas        50\n",
            "38          Balón de baloncesto        50\n",
            "36            Asistente virtual        50\n",
            "17                      Batería        48\n",
            "7                    Microondas        48\n",
            "1                  Vaso térmico        48\n",
            "2                 Juego de mesa        48\n",
            "28                  Muñeca bebé        48\n",
            "9             Balón de voleibol        48\n",
            "46                    Iphone 15        48\n",
            "18              Cubo mágico 8x8        47\n",
            "50                       Estufa        47\n",
            "35               Dinosaurio Rex        47\n",
            "11              Sofá reclinable        47\n",
            "12              Olla de presión        46\n",
            "24                 Set de vasos        46\n",
            "39                  Tablet ABXY        45\n",
            "26                    Bicicleta        45\n",
            "27                       Sillón        45\n",
            "40                  Auriculares        44\n",
            "44               Mesa de centro        44\n",
            "49                      Mochila        43\n",
            "14                 Lavavajillas        43\n",
            "47           Cuerda para saltar        43\n",
            "22    Iniciando en programación        43\n",
            "0                 Kit de bancas        42\n",
            "32    Auriculares con micrófono        42\n",
            "41             Silla de oficina        40\n",
            "30             Secadora de ropa        40\n",
            "16                TV LED UHD 4K        40\n",
            "15                   Smartwatch        39\n",
            "25                 Celular ABXY        39\n",
            "37            Ajedrez de madera        39\n",
            "43                 Refrigerador        38\n",
            "31             Lavadora de ropa        38\n",
            "48  Ciencia de datos con Python        38\n",
            "6             Guitarra acústica        37\n",
            "23                      Armario        34\n",
            "3            Guitarra eléctrica        33\n"
          ]
        }
      ]
    },
    {
      "cell_type": "markdown",
      "source": [
        "# 5. Envío promedio por tienda"
      ],
      "metadata": {
        "id": "Fl0cGi3bZKqU"
      }
    },
    {
      "cell_type": "code",
      "source": [
        "# CALCULAR EL COSTO DE ENVIO PROMEDIO PARA CADA TIENDA. EL OBJETIVO ES COMPRENDER CUANTO SE GASTA EN EL ENVIO DE CADA TIENDA"
      ],
      "metadata": {
        "id": "S2JeaCykZNy9"
      },
      "execution_count": 11,
      "outputs": []
    },
    {
      "cell_type": "code",
      "source": [
        "# Creando una función para obtener el promedio de costo en envios por tienda\n",
        "def obtener_costo_envios_promedio(tienda,nombreTienda):\n",
        "  return (nombreTienda,tienda['Costo de envío'].mean())"
      ],
      "metadata": {
        "id": "0tSdCie9ZQlt"
      },
      "execution_count": 20,
      "outputs": []
    },
    {
      "cell_type": "code",
      "source": [
        "# Obteniendo el costo promedio de envios de cada tienda\n",
        "costo_envios_tienda = obtener_costo_envios_promedio(tienda,\"Tienda 1\")\n",
        "costo_envios_tienda2 = obtener_costo_envios_promedio(tienda2,\"Tienda 2\")\n",
        "costo_envios_tienda3 = obtener_costo_envios_promedio(tienda3, \"Tienda 3\")\n",
        "costo_envios_tienda4 = obtener_costo_envios_promedio(tienda4, \"Tienda 4\")"
      ],
      "metadata": {
        "id": "pHCxIEJIzcSG"
      },
      "execution_count": 21,
      "outputs": []
    },
    {
      "cell_type": "code",
      "source": [
        "# Agrupando las tuplas en un arreglo\n",
        "costo_de_envios = [\n",
        "    costo_envios_tienda,\n",
        "    costo_envios_tienda2,\n",
        "    costo_envios_tienda3,\n",
        "    costo_envios_tienda4\n",
        "]\n",
        "\n",
        "# Creando el data frame con las columnas correspondientes\n",
        "df_envios = pd.DataFrame(costo_de_envios,columns=[\"Nombre de Tienda\",\"Costo de envio promedio\"])\n",
        "\n",
        "print(df_envios)"
      ],
      "metadata": {
        "id": "ZnJJAoW3z2JR",
        "outputId": "81841552-c24c-4633-89a2-67bd6a193697",
        "colab": {
          "base_uri": "https://localhost:8080/"
        }
      },
      "execution_count": 22,
      "outputs": [
        {
          "output_type": "stream",
          "name": "stdout",
          "text": [
            "  Nombre de Tienda  Costo de envio promedio\n",
            "0         Tienda 1             26018.609580\n",
            "1         Tienda 2             25216.235693\n",
            "2         Tienda 3             24805.680373\n",
            "3         Tienda 4             23459.457167\n"
          ]
        }
      ]
    },
    {
      "cell_type": "code",
      "source": [],
      "metadata": {
        "id": "XedCTO9f0V8w"
      },
      "execution_count": null,
      "outputs": []
    }
  ]
}